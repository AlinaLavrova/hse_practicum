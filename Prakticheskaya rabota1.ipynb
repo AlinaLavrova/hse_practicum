{
 "cells": [
  {
   "cell_type": "code",
   "execution_count": 1,
   "id": "17dc83a0",
   "metadata": {},
   "outputs": [],
   "source": [
    "import pandas as pd   #импортируем необходимые для работы библиотеки\n",
    "import numpy as np\n",
    "import matplotlib.pyplot as plt"
   ]
  },
  {
   "cell_type": "markdown",
   "id": "9ee31faa",
   "metadata": {},
   "source": [
    "#### Датасет содержит информацию о покупателях беговых дорожек и состоит из следующих переменных:\n",
    "**Product** - модель беговой дорожки, \n",
    "**Age** - возраст покупателя, \n",
    "**Gender** - пол покупателя, \n",
    "**Education** - кол-во лет полученного образования, \n",
    "**Marital Status** - семейное положение, \n",
    "**Usage** - среднее планируемое кол-во раз использования беговой дорожки в неделю; \n",
    "**Fitness** - самооценка физической формы по шкале от 1 до 5 (где 1 - плохая форма, а 5 - отличная форма); \n",
    "**Income** - годовой доход домохозяйства (в $); \n",
    "**Miles** - среднее планируемое кол-во миль, которое покупатель собирается проходить/пробегать каждую неделю."
   ]
  },
  {
   "cell_type": "code",
   "execution_count": 2,
   "id": "f78403e2",
   "metadata": {},
   "outputs": [
    {
     "data": {
      "text/html": [
       "<div>\n",
       "<style scoped>\n",
       "    .dataframe tbody tr th:only-of-type {\n",
       "        vertical-align: middle;\n",
       "    }\n",
       "\n",
       "    .dataframe tbody tr th {\n",
       "        vertical-align: top;\n",
       "    }\n",
       "\n",
       "    .dataframe thead th {\n",
       "        text-align: right;\n",
       "    }\n",
       "</style>\n",
       "<table border=\"1\" class=\"dataframe\">\n",
       "  <thead>\n",
       "    <tr style=\"text-align: right;\">\n",
       "      <th></th>\n",
       "      <th>Product</th>\n",
       "      <th>Age</th>\n",
       "      <th>Gender</th>\n",
       "      <th>Education</th>\n",
       "      <th>MaritalStatus</th>\n",
       "      <th>Usage</th>\n",
       "      <th>Fitness</th>\n",
       "      <th>Income</th>\n",
       "      <th>Miles</th>\n",
       "    </tr>\n",
       "  </thead>\n",
       "  <tbody>\n",
       "    <tr>\n",
       "      <th>0</th>\n",
       "      <td>TM195</td>\n",
       "      <td>18</td>\n",
       "      <td>Male</td>\n",
       "      <td>14</td>\n",
       "      <td>Single</td>\n",
       "      <td>3</td>\n",
       "      <td>4</td>\n",
       "      <td>29562</td>\n",
       "      <td>112</td>\n",
       "    </tr>\n",
       "    <tr>\n",
       "      <th>1</th>\n",
       "      <td>TM195</td>\n",
       "      <td>19</td>\n",
       "      <td>Male</td>\n",
       "      <td>15</td>\n",
       "      <td>Single</td>\n",
       "      <td>2</td>\n",
       "      <td>3</td>\n",
       "      <td>31836</td>\n",
       "      <td>75</td>\n",
       "    </tr>\n",
       "    <tr>\n",
       "      <th>2</th>\n",
       "      <td>TM195</td>\n",
       "      <td>19</td>\n",
       "      <td>Female</td>\n",
       "      <td>14</td>\n",
       "      <td>Partnered</td>\n",
       "      <td>4</td>\n",
       "      <td>3</td>\n",
       "      <td>30699</td>\n",
       "      <td>66</td>\n",
       "    </tr>\n",
       "    <tr>\n",
       "      <th>3</th>\n",
       "      <td>TM195</td>\n",
       "      <td>19</td>\n",
       "      <td>Male</td>\n",
       "      <td>12</td>\n",
       "      <td>Single</td>\n",
       "      <td>3</td>\n",
       "      <td>3</td>\n",
       "      <td>32973</td>\n",
       "      <td>85</td>\n",
       "    </tr>\n",
       "    <tr>\n",
       "      <th>4</th>\n",
       "      <td>TM195</td>\n",
       "      <td>20</td>\n",
       "      <td>Male</td>\n",
       "      <td>13</td>\n",
       "      <td>Partnered</td>\n",
       "      <td>4</td>\n",
       "      <td>2</td>\n",
       "      <td>35247</td>\n",
       "      <td>47</td>\n",
       "    </tr>\n",
       "    <tr>\n",
       "      <th>...</th>\n",
       "      <td>...</td>\n",
       "      <td>...</td>\n",
       "      <td>...</td>\n",
       "      <td>...</td>\n",
       "      <td>...</td>\n",
       "      <td>...</td>\n",
       "      <td>...</td>\n",
       "      <td>...</td>\n",
       "      <td>...</td>\n",
       "    </tr>\n",
       "    <tr>\n",
       "      <th>175</th>\n",
       "      <td>TM798</td>\n",
       "      <td>40</td>\n",
       "      <td>Male</td>\n",
       "      <td>21</td>\n",
       "      <td>Single</td>\n",
       "      <td>6</td>\n",
       "      <td>5</td>\n",
       "      <td>83416</td>\n",
       "      <td>200</td>\n",
       "    </tr>\n",
       "    <tr>\n",
       "      <th>176</th>\n",
       "      <td>TM798</td>\n",
       "      <td>42</td>\n",
       "      <td>Male</td>\n",
       "      <td>18</td>\n",
       "      <td>Single</td>\n",
       "      <td>5</td>\n",
       "      <td>4</td>\n",
       "      <td>89641</td>\n",
       "      <td>200</td>\n",
       "    </tr>\n",
       "    <tr>\n",
       "      <th>177</th>\n",
       "      <td>TM798</td>\n",
       "      <td>45</td>\n",
       "      <td>Male</td>\n",
       "      <td>16</td>\n",
       "      <td>Single</td>\n",
       "      <td>5</td>\n",
       "      <td>5</td>\n",
       "      <td>90886</td>\n",
       "      <td>160</td>\n",
       "    </tr>\n",
       "    <tr>\n",
       "      <th>178</th>\n",
       "      <td>TM798</td>\n",
       "      <td>47</td>\n",
       "      <td>Male</td>\n",
       "      <td>18</td>\n",
       "      <td>Partnered</td>\n",
       "      <td>4</td>\n",
       "      <td>5</td>\n",
       "      <td>104581</td>\n",
       "      <td>120</td>\n",
       "    </tr>\n",
       "    <tr>\n",
       "      <th>179</th>\n",
       "      <td>TM798</td>\n",
       "      <td>48</td>\n",
       "      <td>Male</td>\n",
       "      <td>18</td>\n",
       "      <td>Partnered</td>\n",
       "      <td>4</td>\n",
       "      <td>5</td>\n",
       "      <td>95508</td>\n",
       "      <td>180</td>\n",
       "    </tr>\n",
       "  </tbody>\n",
       "</table>\n",
       "<p>180 rows × 9 columns</p>\n",
       "</div>"
      ],
      "text/plain": [
       "    Product  Age  Gender  Education MaritalStatus  Usage  Fitness  Income  \\\n",
       "0     TM195   18    Male         14        Single      3        4   29562   \n",
       "1     TM195   19    Male         15        Single      2        3   31836   \n",
       "2     TM195   19  Female         14     Partnered      4        3   30699   \n",
       "3     TM195   19    Male         12        Single      3        3   32973   \n",
       "4     TM195   20    Male         13     Partnered      4        2   35247   \n",
       "..      ...  ...     ...        ...           ...    ...      ...     ...   \n",
       "175   TM798   40    Male         21        Single      6        5   83416   \n",
       "176   TM798   42    Male         18        Single      5        4   89641   \n",
       "177   TM798   45    Male         16        Single      5        5   90886   \n",
       "178   TM798   47    Male         18     Partnered      4        5  104581   \n",
       "179   TM798   48    Male         18     Partnered      4        5   95508   \n",
       "\n",
       "     Miles  \n",
       "0      112  \n",
       "1       75  \n",
       "2       66  \n",
       "3       85  \n",
       "4       47  \n",
       "..     ...  \n",
       "175    200  \n",
       "176    200  \n",
       "177    160  \n",
       "178    120  \n",
       "179    180  \n",
       "\n",
       "[180 rows x 9 columns]"
      ]
     },
     "execution_count": 2,
     "metadata": {},
     "output_type": "execute_result"
    }
   ],
   "source": [
    "df = pd.read_csv('C:\\dataset/CardioGoodFitness.csv')   #загружаем выбранный датасет\n",
    "df"
   ]
  },
  {
   "cell_type": "code",
   "execution_count": 3,
   "id": "ce1b28dd",
   "metadata": {},
   "outputs": [],
   "source": [
    "df['MaritalStatus'] = df['MaritalStatus'] == 'Partnered'   #для удобства перекодируем строковое значение в бинарную переменную"
   ]
  },
  {
   "cell_type": "markdown",
   "id": "7e85394a",
   "metadata": {},
   "source": [
    "Теперь, если покупатель одинок в переменной MaritalStatus мы запишем False, а если он состоит в браке - True."
   ]
  },
  {
   "cell_type": "code",
   "execution_count": 4,
   "id": "4f230fbc",
   "metadata": {
    "scrolled": true
   },
   "outputs": [
    {
     "data": {
      "text/html": [
       "<div>\n",
       "<style scoped>\n",
       "    .dataframe tbody tr th:only-of-type {\n",
       "        vertical-align: middle;\n",
       "    }\n",
       "\n",
       "    .dataframe tbody tr th {\n",
       "        vertical-align: top;\n",
       "    }\n",
       "\n",
       "    .dataframe thead th {\n",
       "        text-align: right;\n",
       "    }\n",
       "</style>\n",
       "<table border=\"1\" class=\"dataframe\">\n",
       "  <thead>\n",
       "    <tr style=\"text-align: right;\">\n",
       "      <th></th>\n",
       "      <th>Product</th>\n",
       "      <th>Age</th>\n",
       "      <th>Gender</th>\n",
       "      <th>Education</th>\n",
       "      <th>MaritalStatus</th>\n",
       "      <th>Usage</th>\n",
       "      <th>Fitness</th>\n",
       "      <th>Income</th>\n",
       "      <th>Miles</th>\n",
       "    </tr>\n",
       "  </thead>\n",
       "  <tbody>\n",
       "    <tr>\n",
       "      <th>0</th>\n",
       "      <td>TM195</td>\n",
       "      <td>18</td>\n",
       "      <td>Male</td>\n",
       "      <td>14</td>\n",
       "      <td>False</td>\n",
       "      <td>3</td>\n",
       "      <td>4</td>\n",
       "      <td>29562</td>\n",
       "      <td>112</td>\n",
       "    </tr>\n",
       "    <tr>\n",
       "      <th>1</th>\n",
       "      <td>TM195</td>\n",
       "      <td>19</td>\n",
       "      <td>Male</td>\n",
       "      <td>15</td>\n",
       "      <td>False</td>\n",
       "      <td>2</td>\n",
       "      <td>3</td>\n",
       "      <td>31836</td>\n",
       "      <td>75</td>\n",
       "    </tr>\n",
       "    <tr>\n",
       "      <th>2</th>\n",
       "      <td>TM195</td>\n",
       "      <td>19</td>\n",
       "      <td>Female</td>\n",
       "      <td>14</td>\n",
       "      <td>True</td>\n",
       "      <td>4</td>\n",
       "      <td>3</td>\n",
       "      <td>30699</td>\n",
       "      <td>66</td>\n",
       "    </tr>\n",
       "    <tr>\n",
       "      <th>3</th>\n",
       "      <td>TM195</td>\n",
       "      <td>19</td>\n",
       "      <td>Male</td>\n",
       "      <td>12</td>\n",
       "      <td>False</td>\n",
       "      <td>3</td>\n",
       "      <td>3</td>\n",
       "      <td>32973</td>\n",
       "      <td>85</td>\n",
       "    </tr>\n",
       "    <tr>\n",
       "      <th>4</th>\n",
       "      <td>TM195</td>\n",
       "      <td>20</td>\n",
       "      <td>Male</td>\n",
       "      <td>13</td>\n",
       "      <td>True</td>\n",
       "      <td>4</td>\n",
       "      <td>2</td>\n",
       "      <td>35247</td>\n",
       "      <td>47</td>\n",
       "    </tr>\n",
       "    <tr>\n",
       "      <th>5</th>\n",
       "      <td>TM195</td>\n",
       "      <td>20</td>\n",
       "      <td>Female</td>\n",
       "      <td>14</td>\n",
       "      <td>True</td>\n",
       "      <td>3</td>\n",
       "      <td>3</td>\n",
       "      <td>32973</td>\n",
       "      <td>66</td>\n",
       "    </tr>\n",
       "    <tr>\n",
       "      <th>6</th>\n",
       "      <td>TM195</td>\n",
       "      <td>21</td>\n",
       "      <td>Female</td>\n",
       "      <td>14</td>\n",
       "      <td>True</td>\n",
       "      <td>3</td>\n",
       "      <td>3</td>\n",
       "      <td>35247</td>\n",
       "      <td>75</td>\n",
       "    </tr>\n",
       "    <tr>\n",
       "      <th>7</th>\n",
       "      <td>TM195</td>\n",
       "      <td>21</td>\n",
       "      <td>Male</td>\n",
       "      <td>13</td>\n",
       "      <td>False</td>\n",
       "      <td>3</td>\n",
       "      <td>3</td>\n",
       "      <td>32973</td>\n",
       "      <td>85</td>\n",
       "    </tr>\n",
       "    <tr>\n",
       "      <th>8</th>\n",
       "      <td>TM195</td>\n",
       "      <td>21</td>\n",
       "      <td>Male</td>\n",
       "      <td>15</td>\n",
       "      <td>False</td>\n",
       "      <td>5</td>\n",
       "      <td>4</td>\n",
       "      <td>35247</td>\n",
       "      <td>141</td>\n",
       "    </tr>\n",
       "    <tr>\n",
       "      <th>9</th>\n",
       "      <td>TM195</td>\n",
       "      <td>21</td>\n",
       "      <td>Female</td>\n",
       "      <td>15</td>\n",
       "      <td>True</td>\n",
       "      <td>2</td>\n",
       "      <td>3</td>\n",
       "      <td>37521</td>\n",
       "      <td>85</td>\n",
       "    </tr>\n",
       "  </tbody>\n",
       "</table>\n",
       "</div>"
      ],
      "text/plain": [
       "  Product  Age  Gender  Education  MaritalStatus  Usage  Fitness  Income  \\\n",
       "0   TM195   18    Male         14          False      3        4   29562   \n",
       "1   TM195   19    Male         15          False      2        3   31836   \n",
       "2   TM195   19  Female         14           True      4        3   30699   \n",
       "3   TM195   19    Male         12          False      3        3   32973   \n",
       "4   TM195   20    Male         13           True      4        2   35247   \n",
       "5   TM195   20  Female         14           True      3        3   32973   \n",
       "6   TM195   21  Female         14           True      3        3   35247   \n",
       "7   TM195   21    Male         13          False      3        3   32973   \n",
       "8   TM195   21    Male         15          False      5        4   35247   \n",
       "9   TM195   21  Female         15           True      2        3   37521   \n",
       "\n",
       "   Miles  \n",
       "0    112  \n",
       "1     75  \n",
       "2     66  \n",
       "3     85  \n",
       "4     47  \n",
       "5     66  \n",
       "6     75  \n",
       "7     85  \n",
       "8    141  \n",
       "9     85  "
      ]
     },
     "execution_count": 4,
     "metadata": {},
     "output_type": "execute_result"
    }
   ],
   "source": [
    "df.head(10)   #посмотрим на первые десять строк датасета"
   ]
  },
  {
   "cell_type": "code",
   "execution_count": 5,
   "id": "49987c56",
   "metadata": {},
   "outputs": [
    {
     "name": "stdout",
     "output_type": "stream",
     "text": [
      "<class 'pandas.core.frame.DataFrame'>\n",
      "RangeIndex: 180 entries, 0 to 179\n",
      "Data columns (total 9 columns):\n",
      " #   Column         Non-Null Count  Dtype \n",
      "---  ------         --------------  ----- \n",
      " 0   Product        180 non-null    object\n",
      " 1   Age            180 non-null    int64 \n",
      " 2   Gender         180 non-null    object\n",
      " 3   Education      180 non-null    int64 \n",
      " 4   MaritalStatus  180 non-null    bool  \n",
      " 5   Usage          180 non-null    int64 \n",
      " 6   Fitness        180 non-null    int64 \n",
      " 7   Income         180 non-null    int64 \n",
      " 8   Miles          180 non-null    int64 \n",
      "dtypes: bool(1), int64(6), object(2)\n",
      "memory usage: 11.6+ KB\n"
     ]
    }
   ],
   "source": [
    "df.info()   #вызываем метод info для того, чтобы узнать содержит ли наш датасет пропущенные значения"
   ]
  },
  {
   "cell_type": "code",
   "execution_count": 6,
   "id": "29f6c16a",
   "metadata": {},
   "outputs": [
    {
     "data": {
      "text/plain": [
       "(180, 9)"
      ]
     },
     "execution_count": 6,
     "metadata": {},
     "output_type": "execute_result"
    }
   ],
   "source": [
    "df.shape  #узнаем размерность нашего датасета"
   ]
  },
  {
   "cell_type": "markdown",
   "id": "7ff0923c",
   "metadata": {},
   "source": [
    "Вызвав функцию shape мы узнали, что наш датасет содержит 180 строк. Вызвав функцию info мы узнали, что каждый из имеющихся столбцов содержит 180 ненулевых значений. Это значит, что в нашем датасете нет пропущенных значений. Это хорошо)"
   ]
  },
  {
   "cell_type": "code",
   "execution_count": 7,
   "id": "bdc47096",
   "metadata": {},
   "outputs": [
    {
     "data": {
      "text/plain": [
       "array(['TM195', 'TM498', 'TM798'], dtype=object)"
      ]
     },
     "execution_count": 7,
     "metadata": {},
     "output_type": "execute_result"
    }
   ],
   "source": [
    "df['Product'].unique()   #узнаем какие модели беговых дорожек включены в наш датасет"
   ]
  },
  {
   "cell_type": "markdown",
   "id": "0ab0234c",
   "metadata": {},
   "source": [
    "Датасет включает в себя информацию по покупателям, совершившим покупку одной из трех моделей беговых дорожек - TM195, TM498 и TM798. Нам не так важны их названия, для дальнейшего исследования нам важно, что их три и они разные."
   ]
  },
  {
   "cell_type": "code",
   "execution_count": 8,
   "id": "fb0c70d5",
   "metadata": {},
   "outputs": [
    {
     "data": {
      "text/plain": [
       "<AxesSubplot:>"
      ]
     },
     "execution_count": 8,
     "metadata": {},
     "output_type": "execute_result"
    },
    {
     "data": {
      "image/png": "[encoded data removed]",
      "text/plain": [
       "<Figure size 432x288 with 1 Axes>"
      ]
     },
     "metadata": {
      "needs_background": "light"
     },
     "output_type": "display_data"
    }
   ],
   "source": [
    "df['Age'].hist(bins=30)   #построим гистограмму для того, чтобы посмотреть на распределение покупателей по возрасту"
   ]
  },
  {
   "cell_type": "code",
   "execution_count": 9,
   "id": "a11bc3ed",
   "metadata": {},
   "outputs": [
    {
     "data": {
      "text/plain": [
       "0    25\n",
       "Name: Age, dtype: int64"
      ]
     },
     "execution_count": 9,
     "metadata": {},
     "output_type": "execute_result"
    }
   ],
   "source": [
    "df['Age'].mode()   #расчет моды"
   ]
  },
  {
   "cell_type": "code",
   "execution_count": 10,
   "id": "3e02c486",
   "metadata": {},
   "outputs": [
    {
     "data": {
      "text/plain": [
       "26.0"
      ]
     },
     "execution_count": 10,
     "metadata": {},
     "output_type": "execute_result"
    }
   ],
   "source": [
    "df['Age'].median() #расчет медианы"
   ]
  },
  {
   "cell_type": "code",
   "execution_count": 11,
   "id": "59bbb4e3",
   "metadata": {},
   "outputs": [
    {
     "data": {
      "text/plain": [
       "28.788888888888888"
      ]
     },
     "execution_count": 11,
     "metadata": {},
     "output_type": "execute_result"
    }
   ],
   "source": [
    "df['Age'].mean()   #расчет среднего арифметического"
   ]
  },
  {
   "cell_type": "markdown",
   "id": "f6ed9fb5",
   "metadata": {},
   "source": [
    "На графике распределения видно, что наиболее часто встречающееся значение возраста покупателей беговых дорожек - 25 лет. Мы подтвердили это, выполним расчет моды. Посчитали и другие меры центральной тенденции - медиану и среднее арифметическое. "
   ]
  },
  {
   "cell_type": "code",
   "execution_count": 12,
   "id": "7166625a",
   "metadata": {},
   "outputs": [],
   "source": [
    "df_age = pd.DataFrame(df.groupby('Age')['Income'].mean()) #с помощью группировки выделим нужные нам данные в отдельный датасет"
   ]
  },
  {
   "cell_type": "code",
   "execution_count": 13,
   "id": "8b529c2b",
   "metadata": {},
   "outputs": [
    {
     "data": {
      "text/plain": [
       "<AxesSubplot:xlabel='Age'>"
      ]
     },
     "execution_count": 13,
     "metadata": {},
     "output_type": "execute_result"
    },
    {
     "data": {
      "image/png": "[encoded data removed]",
      "text/plain": [
       "<Figure size 432x288 with 1 Axes>"
      ]
     },
     "metadata": {
      "needs_background": "light"
     },
     "output_type": "display_data"
    }
   ],
   "source": [
    "df_age.plot(kind='bar')   #построим гистограмму для того, чтобы посмотреть на распределение среднего дохода по возрасту"
   ]
  },
  {
   "cell_type": "code",
   "execution_count": 14,
   "id": "e26ee4e9",
   "metadata": {},
   "outputs": [
    {
     "data": {
      "text/plain": [
       "60079.0"
      ]
     },
     "execution_count": 14,
     "metadata": {},
     "output_type": "execute_result"
    }
   ],
   "source": [
    "df_age['Income'].max() - df_age['Income'].min()   #размах"
   ]
  },
  {
   "cell_type": "code",
   "execution_count": 15,
   "id": "37e2461d",
   "metadata": {},
   "outputs": [
    {
     "data": {
      "text/plain": [
       "17143.375"
      ]
     },
     "execution_count": 15,
     "metadata": {},
     "output_type": "execute_result"
    }
   ],
   "source": [
    "np.percentile(df_age['Income'],75) - np.percentile(df_age['Income'],25)   #интерквартильный размах"
   ]
  },
  {
   "cell_type": "code",
   "execution_count": 16,
   "id": "eee3c8cd",
   "metadata": {},
   "outputs": [
    {
     "name": "stdout",
     "output_type": "stream",
     "text": [
      "192443389.0958969\n",
      "13872.39666012679\n"
     ]
    }
   ],
   "source": [
    "print(df_age['Income'].var(ddof=0))   #дисперсия генеральной совокупности \n",
    "print(df_age['Income'].std(ddof=0))   #среднеквадратическое отклонение генеральной совокупности"
   ]
  },
  {
   "cell_type": "markdown",
   "id": "5d78a71c",
   "metadata": {},
   "source": [
    "На графике распределения среднего дохода по возрасту видно, что оно неравномерное, нет однозначной зависимости между возрастом и уровнем дохода. Также мы посчитали меры разброса (вариативности) для дохода."
   ]
  },
  {
   "cell_type": "markdown",
   "id": "03f96a58",
   "metadata": {},
   "source": [
    "#### Вопрос: Какая из моделей беговых дорожек была наиболее востребована среди покупателей? А какая наименее востребована?"
   ]
  },
  {
   "cell_type": "markdown",
   "id": "49bb6d64",
   "metadata": {},
   "source": [
    "Для того, чтобы ответить на этот вопрос используем **группировку данных в pandas**."
   ]
  },
  {
   "cell_type": "code",
   "execution_count": 17,
   "id": "39fe5659",
   "metadata": {},
   "outputs": [
    {
     "data": {
      "text/plain": [
       "Product\n",
       "TM195    80\n",
       "TM498    60\n",
       "TM798    40\n",
       "dtype: int64"
      ]
     },
     "execution_count": 17,
     "metadata": {},
     "output_type": "execute_result"
    }
   ],
   "source": [
    "df.groupby('Product').size()   #используем группировку по модели беговой дорожки"
   ]
  },
  {
   "cell_type": "code",
   "execution_count": 18,
   "id": "56fa4899",
   "metadata": {},
   "outputs": [
    {
     "data": {
      "text/plain": [
       "<AxesSubplot:>"
      ]
     },
     "execution_count": 18,
     "metadata": {},
     "output_type": "execute_result"
    },
    {
     "data": {
      "image/png": "[encoded data removed]",
      "text/plain": [
       "<Figure size 432x288 with 1 Axes>"
      ]
     },
     "metadata": {
      "needs_background": "light"
     },
     "output_type": "display_data"
    }
   ],
   "source": [
    "df['Product'].hist(bins=5)   #строим гистограмму для наглядности"
   ]
  },
  {
   "cell_type": "markdown",
   "id": "2cb4b711",
   "metadata": {},
   "source": [
    "**Вывод**: Наиболее востребована среди покупателей модель TM195 - ее предпочли купить 80 человек. Наименее востребована модель TM798 - ее купили лишь 40 человек."
   ]
  },
  {
   "cell_type": "markdown",
   "id": "dce881cc",
   "metadata": {},
   "source": [
    "#### Вопрос: Каков средний доход покупателей той или иной моделей беговых дорожек?"
   ]
  },
  {
   "cell_type": "markdown",
   "id": "25af6bad",
   "metadata": {},
   "source": [
    "Для того, чтобы ответить на этот вопрос используем **группировку данных в pandas**."
   ]
  },
  {
   "cell_type": "code",
   "execution_count": 19,
   "id": "5aeaf8d9",
   "metadata": {},
   "outputs": [
    {
     "data": {
      "text/plain": [
       "Product\n",
       "TM195    46418.025\n",
       "TM498    48973.650\n",
       "TM798    75441.575\n",
       "Name: Income, dtype: float64"
      ]
     },
     "execution_count": 19,
     "metadata": {},
     "output_type": "execute_result"
    }
   ],
   "source": [
    "df.groupby('Product')['Income'].mean()   #рассчитаем средний доход покупателей той или иной модели беговых дорожек"
   ]
  },
  {
   "cell_type": "code",
   "execution_count": 20,
   "id": "bcff8dce",
   "metadata": {},
   "outputs": [
    {
     "data": {
      "text/plain": [
       "<AxesSubplot:xlabel='Product'>"
      ]
     },
     "execution_count": 20,
     "metadata": {},
     "output_type": "execute_result"
    },
    {
     "data": {
      "image/png": "[encoded data removed]",
      "text/plain": [
       "<Figure size 432x288 with 1 Axes>"
      ]
     },
     "metadata": {
      "needs_background": "light"
     },
     "output_type": "display_data"
    }
   ],
   "source": [
    "df.groupby('Product')['Income'].mean().plot(kind='bar')   #отобразим на графике"
   ]
  },
  {
   "cell_type": "markdown",
   "id": "e5b79f62",
   "metadata": {},
   "source": [
    "**Вывод**: У покупателей модели TM195 самый низкий средний уровень дохода, а у покупателей модели ТМ798 - самый высокий. При этом ранее мы выяснили, что ТМ798 купили в два раза меньше, чем ТМ195. Значит, дело в цене, потребители совершили покупку той модели, которую могли себе позволить."
   ]
  },
  {
   "cell_type": "markdown",
   "id": "44aaef93",
   "metadata": {},
   "source": [
    "#### Вопрос: Правда ли, что покупатели беговой дорожки, оценивающие свою физическую форму как хорошую или отличную, в среднем планируют проходить/пробегать больше миль за неделю?"
   ]
  },
  {
   "cell_type": "markdown",
   "id": "2c506728",
   "metadata": {},
   "source": [
    "Для того, чтобы ответить на этот вопрос используем **Z-оценку**."
   ]
  },
  {
   "cell_type": "code",
   "execution_count": 21,
   "id": "c07855e4",
   "metadata": {},
   "outputs": [],
   "source": [
    "import scipy.stats   #импортируем необходимую статистическую библиотеку"
   ]
  },
  {
   "cell_type": "code",
   "execution_count": 22,
   "id": "0e21a8a2",
   "metadata": {},
   "outputs": [
    {
     "data": {
      "text/html": [
       "<div>\n",
       "<style scoped>\n",
       "    .dataframe tbody tr th:only-of-type {\n",
       "        vertical-align: middle;\n",
       "    }\n",
       "\n",
       "    .dataframe tbody tr th {\n",
       "        vertical-align: top;\n",
       "    }\n",
       "\n",
       "    .dataframe thead th {\n",
       "        text-align: right;\n",
       "    }\n",
       "</style>\n",
       "<table border=\"1\" class=\"dataframe\">\n",
       "  <thead>\n",
       "    <tr style=\"text-align: right;\">\n",
       "      <th></th>\n",
       "      <th>Product</th>\n",
       "      <th>Fitness</th>\n",
       "      <th>Miles</th>\n",
       "    </tr>\n",
       "  </thead>\n",
       "  <tbody>\n",
       "    <tr>\n",
       "      <th>0</th>\n",
       "      <td>TM195</td>\n",
       "      <td>4</td>\n",
       "      <td>112</td>\n",
       "    </tr>\n",
       "    <tr>\n",
       "      <th>1</th>\n",
       "      <td>TM195</td>\n",
       "      <td>3</td>\n",
       "      <td>75</td>\n",
       "    </tr>\n",
       "    <tr>\n",
       "      <th>2</th>\n",
       "      <td>TM195</td>\n",
       "      <td>3</td>\n",
       "      <td>66</td>\n",
       "    </tr>\n",
       "    <tr>\n",
       "      <th>3</th>\n",
       "      <td>TM195</td>\n",
       "      <td>3</td>\n",
       "      <td>85</td>\n",
       "    </tr>\n",
       "    <tr>\n",
       "      <th>4</th>\n",
       "      <td>TM195</td>\n",
       "      <td>2</td>\n",
       "      <td>47</td>\n",
       "    </tr>\n",
       "  </tbody>\n",
       "</table>\n",
       "</div>"
      ],
      "text/plain": [
       "  Product  Fitness  Miles\n",
       "0   TM195        4    112\n",
       "1   TM195        3     75\n",
       "2   TM195        3     66\n",
       "3   TM195        3     85\n",
       "4   TM195        2     47"
      ]
     },
     "execution_count": 22,
     "metadata": {},
     "output_type": "execute_result"
    }
   ],
   "source": [
    "needed_columns = ['Product','Fitness','Miles']   #выделяем нужные колонки в датасете и записываем их в отдельный датасет\n",
    "df_z = df[needed_columns]\n",
    "df_z.head()"
   ]
  },
  {
   "cell_type": "code",
   "execution_count": 23,
   "id": "e875cfcb",
   "metadata": {},
   "outputs": [
    {
     "name": "stderr",
     "output_type": "stream",
     "text": [
      "C:\\Users\\alina\\AppData\\Local\\Temp\\ipykernel_17532\\461602484.py:1: SettingWithCopyWarning: \n",
      "A value is trying to be set on a copy of a slice from a DataFrame.\n",
      "Try using .loc[row_indexer,col_indexer] = value instead\n",
      "\n",
      "See the caveats in the documentation: https://pandas.pydata.org/pandas-docs/stable/user_guide/indexing.html#returning-a-view-versus-a-copy\n",
      "  df_z['z-score'] = scipy.stats.zscore(df_z['Miles'])   #рассчитываем z-оценку и добавляем эту колонку в созданный датасет\n"
     ]
    },
    {
     "data": {
      "text/html": [
       "<div>\n",
       "<style scoped>\n",
       "    .dataframe tbody tr th:only-of-type {\n",
       "        vertical-align: middle;\n",
       "    }\n",
       "\n",
       "    .dataframe tbody tr th {\n",
       "        vertical-align: top;\n",
       "    }\n",
       "\n",
       "    .dataframe thead th {\n",
       "        text-align: right;\n",
       "    }\n",
       "</style>\n",
       "<table border=\"1\" class=\"dataframe\">\n",
       "  <thead>\n",
       "    <tr style=\"text-align: right;\">\n",
       "      <th></th>\n",
       "      <th>Product</th>\n",
       "      <th>Fitness</th>\n",
       "      <th>Miles</th>\n",
       "      <th>z-score</th>\n",
       "    </tr>\n",
       "  </thead>\n",
       "  <tbody>\n",
       "    <tr>\n",
       "      <th>0</th>\n",
       "      <td>TM195</td>\n",
       "      <td>4</td>\n",
       "      <td>112</td>\n",
       "      <td>0.170257</td>\n",
       "    </tr>\n",
       "    <tr>\n",
       "      <th>1</th>\n",
       "      <td>TM195</td>\n",
       "      <td>3</td>\n",
       "      <td>75</td>\n",
       "      <td>-0.545143</td>\n",
       "    </tr>\n",
       "    <tr>\n",
       "      <th>2</th>\n",
       "      <td>TM195</td>\n",
       "      <td>3</td>\n",
       "      <td>66</td>\n",
       "      <td>-0.719159</td>\n",
       "    </tr>\n",
       "    <tr>\n",
       "      <th>3</th>\n",
       "      <td>TM195</td>\n",
       "      <td>3</td>\n",
       "      <td>85</td>\n",
       "      <td>-0.351792</td>\n",
       "    </tr>\n",
       "    <tr>\n",
       "      <th>4</th>\n",
       "      <td>TM195</td>\n",
       "      <td>2</td>\n",
       "      <td>47</td>\n",
       "      <td>-1.086527</td>\n",
       "    </tr>\n",
       "  </tbody>\n",
       "</table>\n",
       "</div>"
      ],
      "text/plain": [
       "  Product  Fitness  Miles   z-score\n",
       "0   TM195        4    112  0.170257\n",
       "1   TM195        3     75 -0.545143\n",
       "2   TM195        3     66 -0.719159\n",
       "3   TM195        3     85 -0.351792\n",
       "4   TM195        2     47 -1.086527"
      ]
     },
     "execution_count": 23,
     "metadata": {},
     "output_type": "execute_result"
    }
   ],
   "source": [
    "df_z['z-score'] = scipy.stats.zscore(df_z['Miles'])   #рассчитываем z-оценку и добавляем эту колонку в созданный датасет\n",
    "df_z.head()"
   ]
  },
  {
   "cell_type": "code",
   "execution_count": 24,
   "id": "7d369958",
   "metadata": {},
   "outputs": [
    {
     "data": {
      "text/plain": [
       "<AxesSubplot:>"
      ]
     },
     "execution_count": 24,
     "metadata": {},
     "output_type": "execute_result"
    },
    {
     "data": {
      "image/png": "[encoded data removed]",
      "text/plain": [
       "<Figure size 432x288 with 1 Axes>"
      ]
     },
     "metadata": {
      "needs_background": "light"
     },
     "output_type": "display_data"
    }
   ],
   "source": [
    "df_z['z-score'].hist()    #посмотрим на распределение z-оценки"
   ]
  },
  {
   "cell_type": "code",
   "execution_count": 25,
   "id": "13cb58a7",
   "metadata": {},
   "outputs": [
    {
     "data": {
      "text/html": [
       "<div>\n",
       "<style scoped>\n",
       "    .dataframe tbody tr th:only-of-type {\n",
       "        vertical-align: middle;\n",
       "    }\n",
       "\n",
       "    .dataframe tbody tr th {\n",
       "        vertical-align: top;\n",
       "    }\n",
       "\n",
       "    .dataframe thead th {\n",
       "        text-align: right;\n",
       "    }\n",
       "</style>\n",
       "<table border=\"1\" class=\"dataframe\">\n",
       "  <thead>\n",
       "    <tr style=\"text-align: right;\">\n",
       "      <th></th>\n",
       "      <th>Product</th>\n",
       "      <th>Fitness</th>\n",
       "      <th>Miles</th>\n",
       "      <th>z-score</th>\n",
       "    </tr>\n",
       "  </thead>\n",
       "  <tbody>\n",
       "    <tr>\n",
       "      <th>84</th>\n",
       "      <td>TM498</td>\n",
       "      <td>4</td>\n",
       "      <td>212</td>\n",
       "      <td>2.103769</td>\n",
       "    </tr>\n",
       "    <tr>\n",
       "      <th>155</th>\n",
       "      <td>TM798</td>\n",
       "      <td>5</td>\n",
       "      <td>240</td>\n",
       "      <td>2.645153</td>\n",
       "    </tr>\n",
       "    <tr>\n",
       "      <th>166</th>\n",
       "      <td>TM798</td>\n",
       "      <td>5</td>\n",
       "      <td>300</td>\n",
       "      <td>3.805260</td>\n",
       "    </tr>\n",
       "    <tr>\n",
       "      <th>167</th>\n",
       "      <td>TM798</td>\n",
       "      <td>5</td>\n",
       "      <td>280</td>\n",
       "      <td>3.418558</td>\n",
       "    </tr>\n",
       "    <tr>\n",
       "      <th>170</th>\n",
       "      <td>TM798</td>\n",
       "      <td>5</td>\n",
       "      <td>260</td>\n",
       "      <td>3.031855</td>\n",
       "    </tr>\n",
       "    <tr>\n",
       "      <th>173</th>\n",
       "      <td>TM798</td>\n",
       "      <td>5</td>\n",
       "      <td>360</td>\n",
       "      <td>4.965368</td>\n",
       "    </tr>\n",
       "  </tbody>\n",
       "</table>\n",
       "</div>"
      ],
      "text/plain": [
       "    Product  Fitness  Miles   z-score\n",
       "84    TM498        4    212  2.103769\n",
       "155   TM798        5    240  2.645153\n",
       "166   TM798        5    300  3.805260\n",
       "167   TM798        5    280  3.418558\n",
       "170   TM798        5    260  3.031855\n",
       "173   TM798        5    360  4.965368"
      ]
     },
     "execution_count": 25,
     "metadata": {},
     "output_type": "execute_result"
    }
   ],
   "source": [
    "df_z[df_z['z-score'] > 2]   #есть ли покупатели, которые планируют проходить/пробегать миль больше чем 2 стандартных отклонения?"
   ]
  },
  {
   "cell_type": "code",
   "execution_count": 26,
   "id": "8c4cbfab",
   "metadata": {},
   "outputs": [
    {
     "data": {
      "text/plain": [
       "Fitness\n",
       "1   -1.337883\n",
       "2   -0.995800\n",
       "3   -0.309534\n",
       "4    0.549708\n",
       "5    1.464463\n",
       "Name: z-score, dtype: float64"
      ]
     },
     "execution_count": 26,
     "metadata": {},
     "output_type": "execute_result"
    }
   ],
   "source": [
    "df_z.groupby('Fitness')['z-score'].mean()   #смотрим на среднюю z-оценку для каждой из групп физической подготовки"
   ]
  },
  {
   "cell_type": "markdown",
   "id": "57ebaf3d",
   "metadata": {},
   "source": [
    "**Вывод**: Это правда. В среднем клиенты, оценивающие свою физическую форму как хорошую (4) и отличную (5) планируют проходить/пробегать больше миль за неделю."
   ]
  },
  {
   "cell_type": "markdown",
   "id": "f8ba0a15",
   "metadata": {},
   "source": [
    "#### Вопрос: Содержат ли наши данные экстремальные значения по параметру дохода? Если да, то есть ли схожие характеристики у покупателей, на которые они приходятся?"
   ]
  },
  {
   "cell_type": "markdown",
   "id": "bd09bc13",
   "metadata": {},
   "source": [
    "Для того, чтобы ответить на этот вопрос используем **нахождение выбросов через интервартильный размах**."
   ]
  },
  {
   "cell_type": "code",
   "execution_count": 27,
   "id": "cecf195a",
   "metadata": {},
   "outputs": [
    {
     "data": {
      "text/plain": [
       "count       180.000000\n",
       "mean      53719.577778\n",
       "std       16506.684226\n",
       "min       29562.000000\n",
       "25%       44058.750000\n",
       "50%       50596.500000\n",
       "75%       58668.000000\n",
       "max      104581.000000\n",
       "Name: Income, dtype: float64"
      ]
     },
     "execution_count": 27,
     "metadata": {},
     "output_type": "execute_result"
    }
   ],
   "source": [
    "df['Income'].describe()   #вызываем описательную статистику для параметра, по которому будем искать выбросы"
   ]
  },
  {
   "cell_type": "code",
   "execution_count": 28,
   "id": "ed8af479",
   "metadata": {},
   "outputs": [
    {
     "name": "stdout",
     "output_type": "stream",
     "text": [
      "58668.0 44058.75\n"
     ]
    }
   ],
   "source": [
    "q3 = np.percentile(df['Income'], 75)   #cохраним значения 1-ого и 3-ого перцентилей в переменные\n",
    "q1 = np.percentile(df['Income'], 25)\n",
    "print (q3, q1)"
   ]
  },
  {
   "cell_type": "code",
   "execution_count": 29,
   "id": "105caa7b",
   "metadata": {},
   "outputs": [
    {
     "name": "stdout",
     "output_type": "stream",
     "text": [
      "14609.25\n"
     ]
    }
   ],
   "source": [
    "iqr = q3 - q1   #найдем интерквартильный размах\n",
    "print(iqr)"
   ]
  },
  {
   "cell_type": "code",
   "execution_count": 30,
   "id": "94308829",
   "metadata": {},
   "outputs": [
    {
     "name": "stdout",
     "output_type": "stream",
     "text": [
      "22144.875 80581.875\n"
     ]
    }
   ],
   "source": [
    "iqr_threshold_bottom = q1 - 1.5 * iqr   #найдем нижнюю и верхнюю границы, для того чтобы понять что мы будем считать за выбросы\n",
    "iqr_threshold_top = q3 + 1.5 * iqr\n",
    "print (iqr_threshold_bottom, iqr_threshold_top)"
   ]
  },
  {
   "cell_type": "markdown",
   "id": "6d8a4d54",
   "metadata": {},
   "source": [
    "Нижний порог оказался ниже минимального значения. В распределении переменной дохода не будет выбросов слева от медианы. А справа выбросы будут."
   ]
  },
  {
   "cell_type": "code",
   "execution_count": 31,
   "id": "7405e6cb",
   "metadata": {},
   "outputs": [
    {
     "data": {
      "text/plain": [
       "(19, 9)"
      ]
     },
     "execution_count": 31,
     "metadata": {},
     "output_type": "execute_result"
    }
   ],
   "source": [
    "df[df['Income'] > iqr_threshold_top].shape   #найдем кол-во выбросов - 19"
   ]
  },
  {
   "cell_type": "code",
   "execution_count": 32,
   "id": "3f9639be",
   "metadata": {},
   "outputs": [
    {
     "data": {
      "text/plain": [
       "TM798    19\n",
       "Name: Product, dtype: int64"
      ]
     },
     "execution_count": 32,
     "metadata": {},
     "output_type": "execute_result"
    }
   ],
   "source": [
    "df[df['Income'] > iqr_threshold_top]['Product'].value_counts()   #проверим на какую модель беговой дорожки приходятся выбросы"
   ]
  },
  {
   "cell_type": "code",
   "execution_count": 33,
   "id": "24d54200",
   "metadata": {},
   "outputs": [
    {
     "data": {
      "text/plain": [
       "Male      16\n",
       "Female     3\n",
       "Name: Gender, dtype: int64"
      ]
     },
     "execution_count": 33,
     "metadata": {},
     "output_type": "execute_result"
    }
   ],
   "source": [
    "df[df['Income'] > iqr_threshold_top]['Gender'].value_counts()   #проверим на какой пол покупателей приходятся выбросы"
   ]
  },
  {
   "cell_type": "code",
   "execution_count": 34,
   "id": "14a2c6a9",
   "metadata": {},
   "outputs": [
    {
     "data": {
      "text/plain": [
       "True     13\n",
       "False     6\n",
       "Name: MaritalStatus, dtype: int64"
      ]
     },
     "execution_count": 34,
     "metadata": {},
     "output_type": "execute_result"
    }
   ],
   "source": [
    "df[df['Income'] > iqr_threshold_top]['MaritalStatus'].value_counts()   #проверим на какой семейное положени приходятся выбросы"
   ]
  },
  {
   "cell_type": "markdown",
   "id": "225472cd",
   "metadata": {},
   "source": [
    "**Вывод**: Данные содержат экстремальные значения по параметру дохода, они находятся справа от медианы и характеризуют наших покупателей с высоким доходом. С помощью группировки мы выяснили, что эти люди - преимущественно женатые мужчины, которые предпочитают исключительно модель TM798. Это полезное знание для нас, как для маркетологов - для того, чтобы охватить наиболее платящую аудиторию нам необходимо таргетировать на них рекламу именно этой модели."
   ]
  },
  {
   "cell_type": "markdown",
   "id": "ca5c363c",
   "metadata": {},
   "source": [
    "#### Вопрос: Содержат ли наши данные экстремальные значения по параметру образования (кол-во лет)? Если да, то есть ли схожие характеристики у покупателей, на которые они приходятся?"
   ]
  },
  {
   "cell_type": "markdown",
   "id": "828ff174",
   "metadata": {},
   "source": [
    "Для того, чтобы ответить на этот вопрос используем другой способ нахождения выбросов - **через среднеквадратичное отклонение**."
   ]
  },
  {
   "cell_type": "code",
   "execution_count": 35,
   "id": "7ad4a4c9",
   "metadata": {},
   "outputs": [
    {
     "data": {
      "text/plain": [
       "count    180.000000\n",
       "mean      15.572222\n",
       "std        1.617055\n",
       "min       12.000000\n",
       "25%       14.000000\n",
       "50%       16.000000\n",
       "75%       16.000000\n",
       "max       21.000000\n",
       "Name: Education, dtype: float64"
      ]
     },
     "execution_count": 35,
     "metadata": {},
     "output_type": "execute_result"
    }
   ],
   "source": [
    "df['Education'].describe()   #вызываем описательную статистику для параметра, по которому будем искать выбросы"
   ]
  },
  {
   "cell_type": "code",
   "execution_count": 36,
   "id": "36a28e46",
   "metadata": {},
   "outputs": [
    {
     "name": "stdout",
     "output_type": "stream",
     "text": [
      "15.572222222222223 1.6170548978065553\n"
     ]
    }
   ],
   "source": [
    "mean = df['Education'].mean()  #найдем и cохраним значения ср.арифметического и среднекв.отклонения в переменные\n",
    "std = df['Education'].std()\n",
    "print (mean, std)"
   ]
  },
  {
   "cell_type": "code",
   "execution_count": 37,
   "id": "87a3b658",
   "metadata": {},
   "outputs": [
    {
     "name": "stdout",
     "output_type": "stream",
     "text": [
      "11.529584977705834 19.61485946673861\n"
     ]
    }
   ],
   "source": [
    "std_threshold_bottom = mean - 2.5 * std  #найдем нижнюю и верхнюю границы, для понимания как определять выбросы\n",
    "std_threshold_top = mean + 2.5 * std\n",
    "print (std_threshold_bottom, std_threshold_top)"
   ]
  },
  {
   "cell_type": "markdown",
   "id": "d0c2535f",
   "metadata": {},
   "source": [
    "Нижний порог оказался ниже минимального значения. В распределении переменной образования не будет выбросов слева от медианы. А справа выбросы будут."
   ]
  },
  {
   "cell_type": "code",
   "execution_count": 38,
   "id": "484eeaf8",
   "metadata": {},
   "outputs": [
    {
     "data": {
      "text/plain": [
       "(4, 9)"
      ]
     },
     "execution_count": 38,
     "metadata": {},
     "output_type": "execute_result"
    }
   ],
   "source": [
    "df[df['Education'] > std_threshold_top].shape   #найдем кол-во выбросов - 4"
   ]
  },
  {
   "cell_type": "markdown",
   "id": "715ab765",
   "metadata": {},
   "source": [
    "**Вывод**: Данные содержат экстремальные значения по параметру образования, они находятся справа от медианы и характеризуют наших покупателей с предположительно высоким уровнем образования (так как они обучались больше среднего кол-ва лет). Однако, таких значения всего 4, исследовать характеристики таких покупателей нет необходимости."
   ]
  },
  {
   "cell_type": "markdown",
   "id": "33f2bc48",
   "metadata": {},
   "source": [
    "#### Вопрос: Рассмотрим зависимости между переменными, характеризующими покупателей беговых дорожек. Какая зависимость самая слабая, а какая самая сильная?"
   ]
  },
  {
   "cell_type": "markdown",
   "id": "8ecc6463",
   "metadata": {},
   "source": [
    "Для того, чтобы ответить на этот вопрос будем искать **корреляцию** между переменными."
   ]
  },
  {
   "cell_type": "code",
   "execution_count": 39,
   "id": "1ef76da3",
   "metadata": {},
   "outputs": [
    {
     "data": {
      "text/html": [
       "<div>\n",
       "<style scoped>\n",
       "    .dataframe tbody tr th:only-of-type {\n",
       "        vertical-align: middle;\n",
       "    }\n",
       "\n",
       "    .dataframe tbody tr th {\n",
       "        vertical-align: top;\n",
       "    }\n",
       "\n",
       "    .dataframe thead th {\n",
       "        text-align: right;\n",
       "    }\n",
       "</style>\n",
       "<table border=\"1\" class=\"dataframe\">\n",
       "  <thead>\n",
       "    <tr style=\"text-align: right;\">\n",
       "      <th></th>\n",
       "      <th>Age</th>\n",
       "      <th>Education</th>\n",
       "      <th>MaritalStatus</th>\n",
       "      <th>Usage</th>\n",
       "      <th>Fitness</th>\n",
       "      <th>Income</th>\n",
       "      <th>Miles</th>\n",
       "    </tr>\n",
       "  </thead>\n",
       "  <tbody>\n",
       "    <tr>\n",
       "      <th>Age</th>\n",
       "      <td>1.000000</td>\n",
       "      <td>0.280496</td>\n",
       "      <td>0.192152</td>\n",
       "      <td>0.015064</td>\n",
       "      <td>0.061105</td>\n",
       "      <td>0.513414</td>\n",
       "      <td>0.036618</td>\n",
       "    </tr>\n",
       "    <tr>\n",
       "      <th>Education</th>\n",
       "      <td>0.280496</td>\n",
       "      <td>1.000000</td>\n",
       "      <td>0.068569</td>\n",
       "      <td>0.395155</td>\n",
       "      <td>0.410581</td>\n",
       "      <td>0.625827</td>\n",
       "      <td>0.307284</td>\n",
       "    </tr>\n",
       "    <tr>\n",
       "      <th>MaritalStatus</th>\n",
       "      <td>0.192152</td>\n",
       "      <td>0.068569</td>\n",
       "      <td>1.000000</td>\n",
       "      <td>-0.007786</td>\n",
       "      <td>-0.050751</td>\n",
       "      <td>0.150293</td>\n",
       "      <td>0.025639</td>\n",
       "    </tr>\n",
       "    <tr>\n",
       "      <th>Usage</th>\n",
       "      <td>0.015064</td>\n",
       "      <td>0.395155</td>\n",
       "      <td>-0.007786</td>\n",
       "      <td>1.000000</td>\n",
       "      <td>0.668606</td>\n",
       "      <td>0.519537</td>\n",
       "      <td>0.759130</td>\n",
       "    </tr>\n",
       "    <tr>\n",
       "      <th>Fitness</th>\n",
       "      <td>0.061105</td>\n",
       "      <td>0.410581</td>\n",
       "      <td>-0.050751</td>\n",
       "      <td>0.668606</td>\n",
       "      <td>1.000000</td>\n",
       "      <td>0.535005</td>\n",
       "      <td>0.785702</td>\n",
       "    </tr>\n",
       "    <tr>\n",
       "      <th>Income</th>\n",
       "      <td>0.513414</td>\n",
       "      <td>0.625827</td>\n",
       "      <td>0.150293</td>\n",
       "      <td>0.519537</td>\n",
       "      <td>0.535005</td>\n",
       "      <td>1.000000</td>\n",
       "      <td>0.543473</td>\n",
       "    </tr>\n",
       "    <tr>\n",
       "      <th>Miles</th>\n",
       "      <td>0.036618</td>\n",
       "      <td>0.307284</td>\n",
       "      <td>0.025639</td>\n",
       "      <td>0.759130</td>\n",
       "      <td>0.785702</td>\n",
       "      <td>0.543473</td>\n",
       "      <td>1.000000</td>\n",
       "    </tr>\n",
       "  </tbody>\n",
       "</table>\n",
       "</div>"
      ],
      "text/plain": [
       "                    Age  Education  MaritalStatus     Usage   Fitness  \\\n",
       "Age            1.000000   0.280496       0.192152  0.015064  0.061105   \n",
       "Education      0.280496   1.000000       0.068569  0.395155  0.410581   \n",
       "MaritalStatus  0.192152   0.068569       1.000000 -0.007786 -0.050751   \n",
       "Usage          0.015064   0.395155      -0.007786  1.000000  0.668606   \n",
       "Fitness        0.061105   0.410581      -0.050751  0.668606  1.000000   \n",
       "Income         0.513414   0.625827       0.150293  0.519537  0.535005   \n",
       "Miles          0.036618   0.307284       0.025639  0.759130  0.785702   \n",
       "\n",
       "                 Income     Miles  \n",
       "Age            0.513414  0.036618  \n",
       "Education      0.625827  0.307284  \n",
       "MaritalStatus  0.150293  0.025639  \n",
       "Usage          0.519537  0.759130  \n",
       "Fitness        0.535005  0.785702  \n",
       "Income         1.000000  0.543473  \n",
       "Miles          0.543473  1.000000  "
      ]
     },
     "execution_count": 39,
     "metadata": {},
     "output_type": "execute_result"
    }
   ],
   "source": [
    "df.corr()  # быстрый метод, но не имеет большого смысла, если в датасете не только количественные переменные"
   ]
  },
  {
   "cell_type": "code",
   "execution_count": 40,
   "id": "beec92fd",
   "metadata": {},
   "outputs": [
    {
     "data": {
      "text/html": [
       "<div>\n",
       "<style scoped>\n",
       "    .dataframe tbody tr th:only-of-type {\n",
       "        vertical-align: middle;\n",
       "    }\n",
       "\n",
       "    .dataframe tbody tr th {\n",
       "        vertical-align: top;\n",
       "    }\n",
       "\n",
       "    .dataframe thead th {\n",
       "        text-align: right;\n",
       "    }\n",
       "</style>\n",
       "<table border=\"1\" class=\"dataframe\">\n",
       "  <thead>\n",
       "    <tr style=\"text-align: right;\">\n",
       "      <th></th>\n",
       "      <th>Age</th>\n",
       "      <th>Education</th>\n",
       "      <th>Usage</th>\n",
       "      <th>Fitness</th>\n",
       "      <th>Income</th>\n",
       "      <th>Miles</th>\n",
       "    </tr>\n",
       "  </thead>\n",
       "  <tbody>\n",
       "    <tr>\n",
       "      <th>0</th>\n",
       "      <td>18</td>\n",
       "      <td>14</td>\n",
       "      <td>3</td>\n",
       "      <td>4</td>\n",
       "      <td>29562</td>\n",
       "      <td>112</td>\n",
       "    </tr>\n",
       "    <tr>\n",
       "      <th>1</th>\n",
       "      <td>19</td>\n",
       "      <td>15</td>\n",
       "      <td>2</td>\n",
       "      <td>3</td>\n",
       "      <td>31836</td>\n",
       "      <td>75</td>\n",
       "    </tr>\n",
       "    <tr>\n",
       "      <th>2</th>\n",
       "      <td>19</td>\n",
       "      <td>14</td>\n",
       "      <td>4</td>\n",
       "      <td>3</td>\n",
       "      <td>30699</td>\n",
       "      <td>66</td>\n",
       "    </tr>\n",
       "    <tr>\n",
       "      <th>3</th>\n",
       "      <td>19</td>\n",
       "      <td>12</td>\n",
       "      <td>3</td>\n",
       "      <td>3</td>\n",
       "      <td>32973</td>\n",
       "      <td>85</td>\n",
       "    </tr>\n",
       "    <tr>\n",
       "      <th>4</th>\n",
       "      <td>20</td>\n",
       "      <td>13</td>\n",
       "      <td>4</td>\n",
       "      <td>2</td>\n",
       "      <td>35247</td>\n",
       "      <td>47</td>\n",
       "    </tr>\n",
       "  </tbody>\n",
       "</table>\n",
       "</div>"
      ],
      "text/plain": [
       "   Age  Education  Usage  Fitness  Income  Miles\n",
       "0   18         14      3        4   29562    112\n",
       "1   19         15      2        3   31836     75\n",
       "2   19         14      4        3   30699     66\n",
       "3   19         12      3        3   32973     85\n",
       "4   20         13      4        2   35247     47"
      ]
     },
     "execution_count": 40,
     "metadata": {},
     "output_type": "execute_result"
    }
   ],
   "source": [
    "chisl_columns = ['Age', 'Education','Usage','Fitness', 'Income','Miles']   #возьмем только количественные переменные датасета\n",
    "df_chisl = df[chisl_columns]   #и создадим новый датасет\n",
    "df_chisl.head()"
   ]
  },
  {
   "cell_type": "code",
   "execution_count": 41,
   "id": "41f733c6",
   "metadata": {},
   "outputs": [
    {
     "data": {
      "text/html": [
       "<div>\n",
       "<style scoped>\n",
       "    .dataframe tbody tr th:only-of-type {\n",
       "        vertical-align: middle;\n",
       "    }\n",
       "\n",
       "    .dataframe tbody tr th {\n",
       "        vertical-align: top;\n",
       "    }\n",
       "\n",
       "    .dataframe thead th {\n",
       "        text-align: right;\n",
       "    }\n",
       "</style>\n",
       "<table border=\"1\" class=\"dataframe\">\n",
       "  <thead>\n",
       "    <tr style=\"text-align: right;\">\n",
       "      <th></th>\n",
       "      <th>Age</th>\n",
       "      <th>Education</th>\n",
       "      <th>Usage</th>\n",
       "      <th>Fitness</th>\n",
       "      <th>Income</th>\n",
       "      <th>Miles</th>\n",
       "    </tr>\n",
       "  </thead>\n",
       "  <tbody>\n",
       "    <tr>\n",
       "      <th>Age</th>\n",
       "      <td>1.000000</td>\n",
       "      <td>0.280496</td>\n",
       "      <td>0.015064</td>\n",
       "      <td>0.061105</td>\n",
       "      <td>0.513414</td>\n",
       "      <td>0.036618</td>\n",
       "    </tr>\n",
       "    <tr>\n",
       "      <th>Education</th>\n",
       "      <td>0.280496</td>\n",
       "      <td>1.000000</td>\n",
       "      <td>0.395155</td>\n",
       "      <td>0.410581</td>\n",
       "      <td>0.625827</td>\n",
       "      <td>0.307284</td>\n",
       "    </tr>\n",
       "    <tr>\n",
       "      <th>Usage</th>\n",
       "      <td>0.015064</td>\n",
       "      <td>0.395155</td>\n",
       "      <td>1.000000</td>\n",
       "      <td>0.668606</td>\n",
       "      <td>0.519537</td>\n",
       "      <td>0.759130</td>\n",
       "    </tr>\n",
       "    <tr>\n",
       "      <th>Fitness</th>\n",
       "      <td>0.061105</td>\n",
       "      <td>0.410581</td>\n",
       "      <td>0.668606</td>\n",
       "      <td>1.000000</td>\n",
       "      <td>0.535005</td>\n",
       "      <td>0.785702</td>\n",
       "    </tr>\n",
       "    <tr>\n",
       "      <th>Income</th>\n",
       "      <td>0.513414</td>\n",
       "      <td>0.625827</td>\n",
       "      <td>0.519537</td>\n",
       "      <td>0.535005</td>\n",
       "      <td>1.000000</td>\n",
       "      <td>0.543473</td>\n",
       "    </tr>\n",
       "    <tr>\n",
       "      <th>Miles</th>\n",
       "      <td>0.036618</td>\n",
       "      <td>0.307284</td>\n",
       "      <td>0.759130</td>\n",
       "      <td>0.785702</td>\n",
       "      <td>0.543473</td>\n",
       "      <td>1.000000</td>\n",
       "    </tr>\n",
       "  </tbody>\n",
       "</table>\n",
       "</div>"
      ],
      "text/plain": [
       "                Age  Education     Usage   Fitness    Income     Miles\n",
       "Age        1.000000   0.280496  0.015064  0.061105  0.513414  0.036618\n",
       "Education  0.280496   1.000000  0.395155  0.410581  0.625827  0.307284\n",
       "Usage      0.015064   0.395155  1.000000  0.668606  0.519537  0.759130\n",
       "Fitness    0.061105   0.410581  0.668606  1.000000  0.535005  0.785702\n",
       "Income     0.513414   0.625827  0.519537  0.535005  1.000000  0.543473\n",
       "Miles      0.036618   0.307284  0.759130  0.785702  0.543473  1.000000"
      ]
     },
     "execution_count": 41,
     "metadata": {},
     "output_type": "execute_result"
    }
   ],
   "source": [
    "df_chisl.corr()   #применим функцию corr к новому датасету"
   ]
  },
  {
   "cell_type": "code",
   "execution_count": 42,
   "id": "e08b7f31",
   "metadata": {},
   "outputs": [
    {
     "data": {
      "text/plain": [
       "Usage      Age          0.015064\n",
       "Age        Usage        0.015064\n",
       "           Miles        0.036618\n",
       "Miles      Age          0.036618\n",
       "Age        Fitness      0.061105\n",
       "Fitness    Age          0.061105\n",
       "Age        Education    0.280496\n",
       "Education  Age          0.280496\n",
       "Miles      Education    0.307284\n",
       "Education  Miles        0.307284\n",
       "           Usage        0.395155\n",
       "Usage      Education    0.395155\n",
       "Education  Fitness      0.410581\n",
       "Fitness    Education    0.410581\n",
       "Age        Income       0.513414\n",
       "Income     Age          0.513414\n",
       "           Usage        0.519537\n",
       "Usage      Income       0.519537\n",
       "Income     Fitness      0.535005\n",
       "Fitness    Income       0.535005\n",
       "Income     Miles        0.543473\n",
       "Miles      Income       0.543473\n",
       "Education  Income       0.625827\n",
       "Income     Education    0.625827\n",
       "Usage      Fitness      0.668606\n",
       "Fitness    Usage        0.668606\n",
       "Usage      Miles        0.759130\n",
       "Miles      Usage        0.759130\n",
       "           Fitness      0.785702\n",
       "Fitness    Miles        0.785702\n",
       "Age        Age          1.000000\n",
       "Fitness    Fitness      1.000000\n",
       "Usage      Usage        1.000000\n",
       "Education  Education    1.000000\n",
       "Income     Income       1.000000\n",
       "Miles      Miles        1.000000\n",
       "dtype: float64"
      ]
     },
     "execution_count": 42,
     "metadata": {},
     "output_type": "execute_result"
    }
   ],
   "source": [
    "corr = df_chisl.corr()   # выведем коэф-ты корреляции в другом виде\n",
    "corr.unstack().sort_values()  # отсортируем, чтобы найти самую слабую и самую сильную корреляции"
   ]
  },
  {
   "cell_type": "code",
   "execution_count": 43,
   "id": "e45e707d",
   "metadata": {},
   "outputs": [
    {
     "data": {
      "text/plain": [
       "<AxesSubplot:xlabel='Fitness', ylabel='Miles'>"
      ]
     },
     "execution_count": 43,
     "metadata": {},
     "output_type": "execute_result"
    },
    {
     "data": {
      "image/png": "[encoded data removed]",
      "text/plain": [
       "<Figure size 432x288 with 1 Axes>"
      ]
     },
     "metadata": {
      "needs_background": "light"
     },
     "output_type": "display_data"
    }
   ],
   "source": [
    "df.plot('Fitness','Miles',kind='scatter')   #строим график рассеяния для самой сильной корреляции"
   ]
  },
  {
   "cell_type": "markdown",
   "id": "dacd5e75",
   "metadata": {},
   "source": [
    "**Вывод**: Самая слабая зависимость наблюдается между параметрами возраста и кол-ва раз использования беговой дорожки в неделю. Самая высокая зависимость наблюдается между параметрами состояния физической формы и предполагаемого кол-ва пройденных миль. Однако ее нельзя назвать сильной (весьма высокой), так как она не попадает в диапазон от 0.9 до 1.0. Коэф-т корреляции положительный, что свидетельствует о том, что с увеличением значения одного из признаков значения другого признака тоже увеличивается."
   ]
  },
  {
   "cell_type": "markdown",
   "id": "9164918f",
   "metadata": {},
   "source": [
    "#### Вопрос: Правда ли, что беговую дорожку модели ТМ798, которую предпочитают покупать более состоятельные люди (как мы выяснили ранее), используют в среднем чаще?"
   ]
  },
  {
   "cell_type": "markdown",
   "id": "391ca124",
   "metadata": {},
   "source": [
    "Для того, чтобы ответить на этот вопрос будет удобно **визуализировать** наши переменные. Используем следующие переменные - модель беговой дорожки, возраст, среднее предполагаемое кол-во раз использования в неделю."
   ]
  },
  {
   "cell_type": "code",
   "execution_count": 44,
   "id": "45fe7c42",
   "metadata": {},
   "outputs": [
    {
     "data": {
      "text/plain": [
       "Product  Age\n",
       "TM195    18     3.00\n",
       "         19     3.00\n",
       "         20     3.50\n",
       "         21     3.25\n",
       "         22     3.25\n",
       "                ... \n",
       "TM798    40     6.00\n",
       "         42     5.00\n",
       "         45     5.00\n",
       "         47     4.00\n",
       "         48     4.00\n",
       "Name: Usage, Length: 68, dtype: float64"
      ]
     },
     "execution_count": 44,
     "metadata": {},
     "output_type": "execute_result"
    }
   ],
   "source": [
    "sost = df.groupby(['Product','Age'])['Usage'].mean()   #с помощью группировки создадим нужный нам набор данных\n",
    "sost"
   ]
  },
  {
   "cell_type": "code",
   "execution_count": 45,
   "id": "aeb8daab",
   "metadata": {},
   "outputs": [
    {
     "data": {
      "text/plain": [
       "Text(0.5, 0.98, 'Среднее использование дорожки в неделю в зависимости от возраста по моделям')"
      ]
     },
     "execution_count": 45,
     "metadata": {},
     "output_type": "execute_result"
    },
    {
     "data": {
      "image/png": "[encoded data removed]",
      "text/plain": [
       "<Figure size 720x360 with 1 Axes>"
      ]
     },
     "metadata": {
      "needs_background": "light"
     },
     "output_type": "display_data"
    }
   ],
   "source": [
    "fig, ax = plt.subplots(figsize=(10,5))   #строим линейный график\n",
    "ax.plot(sost.loc['TM195'])\n",
    "ax.plot(sost.loc['TM498'])\n",
    "ax.plot(sost.loc['TM798'])\n",
    "ax.legend(['TM195','TM498','TM798'], frameon=False)\n",
    "fig.suptitle('Среднее использование дорожки в неделю в зависимости от возраста по моделям',fontsize=10)"
   ]
  },
  {
   "cell_type": "markdown",
   "id": "f19f08ea",
   "metadata": {},
   "source": [
    "**Вывод**: Правда. Беговую дорожку модели TM798 в среднем в неделю используют чаще, чем другие модели дорожек, в независимости от возраста. Можем предположить, что эта дорожка обладает такими характеристиками, которые удовлетворяют требованиям профессиональных спортсменов - на ней планируют заниматься не реже 4-х раз в неделю, что не свойственно любительскому спорту и обычным людям. Это еще одна характеристика, которая поможет нам, как маркетологам, определить ЦА для этой модели дорожки и таргетировать ее на правильную аудиторию."
   ]
  },
  {
   "cell_type": "markdown",
   "id": "6a8b5d7f",
   "metadata": {},
   "source": [
    "#### Вопрос: Правда ли, что мужчины в среднем проходят/пробегают больше миль при одинаковой частоте использования, чем женщины?"
   ]
  },
  {
   "cell_type": "markdown",
   "id": "2d795691",
   "metadata": {},
   "source": [
    "Для того, чтобы ответить на этот вопрос будет удобно **визуализировать** наши переменные. Используем следующие переменные - пол, возраст, предполагаемое кол-во раз использования в неделю, среднее кол-во пройденных миль. Попробуем построить два отдельных графика - для женщин и для мужчин."
   ]
  },
  {
   "cell_type": "code",
   "execution_count": 46,
   "id": "3d14e80f",
   "metadata": {},
   "outputs": [
    {
     "data": {
      "text/plain": [
       "Gender  Usage\n",
       "Female  2         59.450000\n",
       "        3         80.696970\n",
       "        4        102.000000\n",
       "        5        157.285714\n",
       "        6        230.000000\n",
       "Male    2         57.153846\n",
       "        3         85.916667\n",
       "        4        125.184211\n",
       "        5        163.100000\n",
       "        6        206.000000\n",
       "        7        240.000000\n",
       "Name: Miles, dtype: float64"
      ]
     },
     "execution_count": 46,
     "metadata": {},
     "output_type": "execute_result"
    }
   ],
   "source": [
    "average_miles = df.groupby(['Gender','Usage'])['Miles'].mean()\n",
    "average_miles"
   ]
  },
  {
   "cell_type": "code",
   "execution_count": 47,
   "id": "8a57ddbe",
   "metadata": {},
   "outputs": [
    {
     "data": {
      "text/plain": [
       "Text(0.5, 0.98, 'Среднее кол-во пройденных миль в зависимости от частоты использования среди женщин и мужчин')"
      ]
     },
     "execution_count": 47,
     "metadata": {},
     "output_type": "execute_result"
    },
    {
     "data": {
      "image/png": "[encoded data removed]",
      "text/plain": [
       "<Figure size 720x360 with 2 Axes>"
      ]
     },
     "metadata": {
      "needs_background": "light"
     },
     "output_type": "display_data"
    }
   ],
   "source": [
    "fig, ax = plt.subplots(1,2, figsize=(10,5))   #строим линейные графики - отдельно для женщин и мужчин\n",
    "ax[0].plot(average_miles.loc['Female'], c='pink')\n",
    "ax[1].plot(average_miles.loc['Female'], c='blue')\n",
    "\n",
    "for axis in ax.ravel():\n",
    "    axis.set_xlabel('Usage')\n",
    "    axis.set_ylabel('Miles')\n",
    "    axis.axhline(103.2, c='grey', lw=0.5)  #среднее значение = 103,2 мили узнали с помощью функции describe\n",
    "    axis.spines['right'].set_visible(False)\n",
    "    axis.spines['top'].set_visible(False)\n",
    "    \n",
    "ax[0].legend(['Female','Average miles'], frameon=False)\n",
    "ax[1].legend(['Male','Average miles'], frameon=False)\n",
    "\n",
    "fig.suptitle('Среднее кол-во пройденных миль в зависимости от частоты использования среди женщин и мужчин',fontsize=10)"
   ]
  },
  {
   "cell_type": "markdown",
   "id": "734c8de7",
   "metadata": {},
   "source": [
    "**Вывод**: Неправда. Визуализировав графики мы видим, что среднее кол-во миль и у мужчин, и у женщин набирается примерно одинаково по мере возрастания частоты использования. При этом общее среднее значение кол-ва миль у обоих полов достигается примерно во время 4-ой за неделю тренировке на беговой дорожке."
   ]
  }
 ],
 "metadata": {
  "kernelspec": {
   "display_name": "Python 3 (ipykernel)",
   "language": "python",
   "name": "python3"
  },
  "language_info": {
   "codemirror_mode": {
    "name": "ipython",
    "version": 3
   },
   "file_extension": ".py",
   "mimetype": "text/x-python",
   "name": "python",
   "nbconvert_exporter": "python",
   "pygments_lexer": "ipython3",
   "version": "3.9.12"
  }
 },
 "nbformat": 4,
 "nbformat_minor": 5
}
